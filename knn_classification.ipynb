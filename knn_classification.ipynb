{
 "cells": [
  {
   "cell_type": "code",
   "execution_count": 1,
   "metadata": {},
   "outputs": [],
   "source": [
    "import numpy as np\n",
    "import pandas as pd\n",
    "import category_encoders as ce\n",
    "\n",
    "from sklearn.model_selection import train_test_split, KFold, RepeatedKFold\n",
    "from sklearn.preprocessing import StandardScaler\n",
    "from sklearn.neighbors import KNeighborsClassifier\n",
    "from sklearn.metrics import precision_score, recall_score, accuracy_score, confusion_matrix"
   ]
  },
  {
   "cell_type": "code",
   "execution_count": 2,
   "metadata": {},
   "outputs": [],
   "source": [
    "def handle_data(csv):\n",
    "    df = pd.read_csv(csv)\n",
    "    \n",
    "    # Encode gender\n",
    "    df = df[df.gender != \"Other\"]\n",
    "    one_hot = ce.OneHotEncoder()\n",
    "    gender_encoded = one_hot.fit_transform(df.gender)\n",
    "    df = df.join(gender_encoded)\n",
    "    del df[\"gender\"]\n",
    "    \n",
    "    # Encode work_type, Residence_type, smoking_status features\n",
    "    target_encoder = ce.TargetEncoder(cols=[\"work_type\", \"Residence_type\", \"smoking_status\"])\n",
    "    df = target_encoder.fit_transform(df, df.stroke)\n",
    "    \n",
    "    # fill None values with mean\n",
    "    df.bmi = df.bmi.fillna(df.bmi.mean())\n",
    "    \n",
    "    # Encode ever_marries feature\n",
    "    df.ever_married = df.ever_married.replace([\"Yes\", \"No\"], [1, 0])\n",
    "    \n",
    "    # Scaling\n",
    "    cols_to_scale = [\"age\", \"avg_glucose_level\", \"bmi\"]\n",
    "    scaler = StandardScaler()\n",
    "    df[cols_to_scale] = scaler.fit_transform(df[cols_to_scale])\n",
    "    \n",
    "    return df"
   ]
  },
  {
   "cell_type": "code",
   "execution_count": 3,
   "metadata": {},
   "outputs": [],
   "source": [
    "def split_data(df):\n",
    "    features = df.loc[:, df.columns != \"stroke\"]\n",
    "    target = df.stroke\n",
    "    x_train, x_test, y_train, y_test = train_test_split(features, target, test_size=0.25, random_state=42)\n",
    "    return x_train, x_test, y_train, y_test"
   ]
  },
  {
   "cell_type": "code",
   "execution_count": 4,
   "metadata": {},
   "outputs": [],
   "source": [
    "def balance_splitting(df, rows_to_use):\n",
    "    zero_stroke = df[df.stroke == 0].sample(rows_to_use)\n",
    "    new_df = df[df.stroke == 1].append(zero_stroke, ignore_index=True)\n",
    "    features = new_df.loc[:, new_df.columns != \"stroke\"]\n",
    "    target = new_df.stroke\n",
    "    x_train, x_test, y_train, y_test = train_test_split(features, target, test_size=0.25, random_state=42)\n",
    "    return x_train, x_test, y_train, y_test"
   ]
  },
  {
   "cell_type": "code",
   "execution_count": 5,
   "metadata": {},
   "outputs": [
    {
     "name": "stderr",
     "output_type": "stream",
     "text": [
      "c:\\users\\igor\\appdata\\local\\programs\\python\\python37-32\\lib\\site-packages\\category_encoders\\utils.py:21: FutureWarning: is_categorical is deprecated and will be removed in a future version.  Use is_categorical_dtype instead\n",
      "  elif pd.api.types.is_categorical(cols):\n",
      "c:\\users\\igor\\appdata\\local\\programs\\python\\python37-32\\lib\\site-packages\\category_encoders\\utils.py:21: FutureWarning: is_categorical is deprecated and will be removed in a future version.  Use is_categorical_dtype instead\n",
      "  elif pd.api.types.is_categorical(cols):\n"
     ]
    }
   ],
   "source": [
    "path = \"healthcare.csv\"\n",
    "data = handle_data(path)"
   ]
  },
  {
   "cell_type": "code",
   "execution_count": 6,
   "metadata": {},
   "outputs": [],
   "source": [
    "x_train, x_test, y_train, y_test = split_data(data)"
   ]
  },
  {
   "cell_type": "code",
   "execution_count": 7,
   "metadata": {},
   "outputs": [],
   "source": [
    "x_train_balanced, x_test_balanced, y_train_balanced, y_test_balanced = balance_splitting(data, 400)"
   ]
  },
  {
   "cell_type": "code",
   "execution_count": 9,
   "metadata": {},
   "outputs": [],
   "source": [
    "knn = KNeighborsClassifier()"
   ]
  },
  {
   "cell_type": "code",
   "execution_count": 10,
   "metadata": {},
   "outputs": [
    {
     "data": {
      "text/plain": [
       "KNeighborsClassifier()"
      ]
     },
     "execution_count": 10,
     "metadata": {},
     "output_type": "execute_result"
    }
   ],
   "source": [
    "knn.fit(x_train,y_train)"
   ]
  },
  {
   "cell_type": "code",
   "execution_count": 11,
   "metadata": {},
   "outputs": [],
   "source": [
    "predict = knn.predict(x_test)"
   ]
  },
  {
   "cell_type": "code",
   "execution_count": 12,
   "metadata": {},
   "outputs": [
    {
     "data": {
      "text/plain": [
       "0.9374021909233177"
      ]
     },
     "execution_count": 12,
     "metadata": {},
     "output_type": "execute_result"
    }
   ],
   "source": [
    "accuracy_score(y_test,predict)"
   ]
  },
  {
   "cell_type": "code",
   "execution_count": 13,
   "metadata": {},
   "outputs": [
    {
     "data": {
      "text/plain": [
       "array([[1198,    0],\n",
       "       [  80,    0]], dtype=int64)"
      ]
     },
     "execution_count": 13,
     "metadata": {},
     "output_type": "execute_result"
    }
   ],
   "source": [
    "confusion_matrix(y_test,predict)"
   ]
  },
  {
   "cell_type": "code",
   "execution_count": null,
   "metadata": {},
   "outputs": [],
   "source": []
  }
 ],
 "metadata": {
  "kernelspec": {
   "display_name": "Python 3",
   "language": "python",
   "name": "python3"
  },
  "language_info": {
   "codemirror_mode": {
    "name": "ipython",
    "version": 3
   },
   "file_extension": ".py",
   "mimetype": "text/x-python",
   "name": "python",
   "nbconvert_exporter": "python",
   "pygments_lexer": "ipython3",
   "version": "3.7.3"
  }
 },
 "nbformat": 4,
 "nbformat_minor": 4
}
